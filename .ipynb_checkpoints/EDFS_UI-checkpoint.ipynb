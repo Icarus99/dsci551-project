{
 "cells": [
  {
   "cell_type": "code",
   "execution_count": 1,
   "metadata": {},
   "outputs": [],
   "source": [
    "from edfs_simulator import EDFS_SIMULATOR"
   ]
  },
  {
   "cell_type": "code",
   "execution_count": 2,
   "metadata": {},
   "outputs": [],
   "source": [
    "edfs = EDFS_SIMULATOR()"
   ]
  },
  {
   "cell_type": "markdown",
   "metadata": {},
   "source": [
    "edfs is an instance of our emulated distributed file system. \n",
    "Type commands like edfs.mkdir('some_dir'), edfs.ls() , ..."
   ]
  },
  {
   "cell_type": "code",
   "execution_count": null,
   "metadata": {},
   "outputs": [],
   "source": [
    "edfs.mkdir(\"/myfiles\")"
   ]
  },
  {
   "cell_type": "code",
   "execution_count": null,
   "metadata": {},
   "outputs": [],
   "source": [
    "edfs.ls()"
   ]
  },
  {
   "cell_type": "code",
   "execution_count": null,
   "metadata": {},
   "outputs": [],
   "source": [
    "edfs.put('Salary_Dataset.csv', '/user/jack', 3)"
   ]
  },
  {
   "cell_type": "markdown",
   "metadata": {},
   "source": []
  },
  {
   "cell_type": "code",
   "execution_count": null,
   "metadata": {},
   "outputs": [],
   "source": [
    "edfs.getPartitionLocations('/user/jack/Salary_Dataset')"
   ]
  },
  {
   "cell_type": "code",
   "execution_count": null,
   "metadata": {},
   "outputs": [],
   "source": [
    "edfs.readPartition('/user/jack/Salary_Dataset', 1)"
   ]
  },
  {
   "cell_type": "markdown",
   "metadata": {},
   "source": []
  },
  {
   "cell_type": "code",
   "execution_count": null,
   "metadata": {},
   "outputs": [],
   "source": [
    "edfs.cat('/user/jack/Salary_Dataset.csv')"
   ]
  },
  {
   "cell_type": "code",
   "execution_count": null,
   "metadata": {},
   "outputs": [],
   "source": [
    "edfs.rm('/user/jack/Salary_Dataset.csv')"
   ]
  },
  {
   "cell_type": "code",
   "execution_count": 7,
   "metadata": {},
   "outputs": [
    {
     "name": "stdout",
     "output_type": "stream",
     "text": [
      "Partition: https://dsci551-7b600-default-rtdb.firebaseio.com/data/user/jack/Salary_Dataset/YEWDD.json\n",
      "                Company Name                   Job Title   Salary\n",
      "96                  Dunzo           Android Developer  2800000\n",
      "106   Walmart Global Tech           Android Developer  2300000\n",
      "145         First Student  Android Developer - Intern  2200000\n",
      "161             Microsoft           Android Developer  2100000\n",
      "196          Amli Network           Android Developer  2000000\n",
      "...                   ...                         ...      ...\n",
      "7488            Mitron TV        Senior IOS Developer  2400000\n",
      "7496            Cura Tech        Senior IOS Developer  2000000\n",
      "7506               UpTodd        Senior IOS Developer  2900000\n",
      "7554            Honeywell  IOS Applications Developer  2100000\n",
      "7584           Shapen est  IOS Applications Developer  2101440\n",
      "\n",
      "[260 rows x 3 columns]\n",
      "Partition: https://dsci551-7b600-default-rtdb.firebaseio.com/data/user/jack/Salary_Dataset/ZRO6E.json\n",
      "             Company Name                                         Job Title  \\\n",
      "11              BYJU'S                                      IOS Engineer   \n",
      "15    Nous Infosystems                                      IOS Engineer   \n",
      "43               Avaya                                Lead IOS Developer   \n",
      "159              Huddl                              Senior IOS Developer   \n",
      "255       XYZ (Turkey)                                     IOS Developer   \n",
      "...                ...                                               ...   \n",
      "7517            Amazon  Software Development Engineer (SDE) - Contractor   \n",
      "7522        Winshuttle               Software Development Engineer (SDE)   \n",
      "7529              OTIS               Software Development Engineer (SDE)   \n",
      "7538  Me, Myself and I               Software Development Engineer (SDE)   \n",
      "7578       GlobalLogic               Software Development Engineer (SDE)   \n",
      "\n",
      "       Salary  \n",
      "11    2400000  \n",
      "15    2300000  \n",
      "43    2100000  \n",
      "159   2200000  \n",
      "255   2200000  \n",
      "...       ...  \n",
      "7517  2000000  \n",
      "7522  2400000  \n",
      "7529  2000000  \n",
      "7538  2038080  \n",
      "7578  2000000  \n",
      "\n",
      "[240 rows x 3 columns]\n",
      "Partition: https://dsci551-7b600-default-rtdb.firebaseio.com/data/user/jack/Salary_Dataset/GLD8F.json\n",
      "                                Company Name  \\\n",
      "28                    Samsung Electronics   \n",
      "30                    Reliance Industries   \n",
      "50                                     Dv   \n",
      "80                                 JUSPAY   \n",
      "86                              ShareChat   \n",
      "...                                   ...   \n",
      "7045                         PureSoftware   \n",
      "7061                      Western Digital   \n",
      "7094                          Sud Express   \n",
      "7186                              Greytip   \n",
      "7495  Chethan's Charters- GD FEA Employer   \n",
      "\n",
      "                                Job Title   Salary  \n",
      "28    Software Development Engineer (SDE)  2500000  \n",
      "30    Software Development Engineer (SDE)  2700000  \n",
      "50    Software Development Engineer (SDE)  2200000  \n",
      "80    Software Development Engineer (SDE)  2200000  \n",
      "86    Software Development Engineer (SDE)  2400000  \n",
      "...                                   ...      ...  \n",
      "7045                        Web Developer  2800000  \n",
      "7061                        Web Developer  2400000  \n",
      "7094                        Web Developer  2900000  \n",
      "7186                        Web Developer  2100000  \n",
      "7495                        Web Developer  2016960  \n",
      "\n",
      "[242 rows x 3 columns]\n",
      "                            Company Name                   Job Title   Salary\n",
      "0                                  Dunzo           Android Developer  2800000\n",
      "1                    Walmart Global Tech           Android Developer  2300000\n",
      "2                          First Student  Android Developer - Intern  2200000\n",
      "3                              Microsoft           Android Developer  2100000\n",
      "4                           Amli Network           Android Developer  2000000\n",
      "..                                   ...                         ...      ...\n",
      "737                         PureSoftware               Web Developer  2800000\n",
      "738                      Western Digital               Web Developer  2400000\n",
      "739                          Sud Express               Web Developer  2900000\n",
      "740                              Greytip               Web Developer  2100000\n",
      "741  Chethan's Charters- GD FEA Employer               Web Developer  2016960\n",
      "\n",
      "[742 rows x 3 columns]\n"
     ]
    }
   ],
   "source": [
    "edfs.get_job_with_salary('/user/jack/Salary_Dataset',mi=2000000, ma=3000000)"
   ]
  },
  {
   "cell_type": "code",
   "execution_count": 8,
   "metadata": {},
   "outputs": [
    {
     "name": "stdout",
     "output_type": "stream",
     "text": [
      "Partition: https://dsci551-7b600-default-rtdb.firebaseio.com/data/user/jack/Salary_Dataset/YEWDD.json\n",
      "   IOS Developer num: 162 sum: 114340000 avg: 705802.4691358025\n",
      "Partition: https://dsci551-7b600-default-rtdb.firebaseio.com/data/user/jack/Salary_Dataset/ZRO6E.json\n",
      "   IOS Developer num: 322 sum: 175498432 avg: 545026.1863354037\n",
      "Partition: https://dsci551-7b600-default-rtdb.firebaseio.com/data/user/jack/Salary_Dataset/GLD8F.json\n",
      "   IOS Developer num: 0 sum: 0 avg: 0\n",
      "IOS Developer avg salary: 598839.7355371901\n"
     ]
    }
   ],
   "source": [
    "edfs.get_avg_salary('/user/jack/Salary_Dataset','IOS Developer')"
   ]
  },
  {
   "cell_type": "code",
   "execution_count": null,
   "metadata": {},
   "outputs": [],
   "source": [
    "edfs.cd('../')"
   ]
  },
  {
   "cell_type": "code",
   "execution_count": null,
   "metadata": {},
   "outputs": [],
   "source": [
    "edfs.ls()"
   ]
  },
  {
   "cell_type": "code",
   "execution_count": null,
   "metadata": {},
   "outputs": [],
   "source": []
  }
 ],
 "metadata": {
  "kernelspec": {
   "display_name": "Python 3",
   "language": "python",
   "name": "python3"
  },
  "language_info": {
   "codemirror_mode": {
    "name": "ipython",
    "version": 3
   },
   "file_extension": ".py",
   "mimetype": "text/x-python",
   "name": "python",
   "nbconvert_exporter": "python",
   "pygments_lexer": "ipython3",
   "version": "3.8.3"
  },
  "vscode": {
   "interpreter": {
    "hash": "3067ead486e059ec00ffe7555bdb889e6e264a24dc711bf108106cc7baee8d5d"
   }
  }
 },
 "nbformat": 4,
 "nbformat_minor": 4
}
